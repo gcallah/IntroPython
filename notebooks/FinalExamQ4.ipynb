{
 "cells": [
  {
   "cell_type": "markdown",
   "metadata": {},
   "source": [
    "## 4.1: The Reading Class\n",
    "\n",
    "For our first step, we want to write a class called Reading. The class should have attributes representing a city name, high temperature, low temperature, humidity, wind speed, snowfall amount, and rainfall amount. The city name must be initialized using a parameter argument. Values for the other attributes may be missing when the initializer is invoked. For any attribute that is not assigned a value, this attribute must be initialized with the proper value to indicate the attribute \"has no value.\" (Hint: there is a special value Python uses to signal \"no value.\")\n",
    "\n",
    "Attribute\t| Type\t| Description\t| Intitial | Value Required \n",
    "name\t| str\t| city name\t| Yes  \n",
    "hi_temp\tfloat\thigh temperature\tNo  \n",
    "lo_temp\tfloat\tlow temperature\tNo  \n",
    "hum\tfloat\tpercent humidity\tNo  \n",
    "wind\tfloat\twind speed\tNo  \n",
    "snow\tfloat\tsnowfall amount\tNo  \n",
    "rain\tfloat\trainfall amount\tNo  \n",
    "\n",
    "**Table 1: The Reading class's attributes.**  \n",
    "\n",
    "When instantiating a `Reading` object and optional parameter arguments are excluded, your class `__init__()` method must still execute successfully. For example, these are all valid ways of initializing a Reading object:\n",
    "\n",
    "`example1 = Reading(name=\"New York\")`  \n",
    "\n",
    "`example2 = Reading(\"New York\", 37, 32, 56, 50, 9, 1)`  \n",
    "\n",
    "`example3 = Reading(name=\"New York\", hi_temp=37, lo_temp=32, hum=45)`  \n",
    "\n",
    "The Reading class should include a method, called `average_temp()`, that returns the mean (i.e. average) of the high and low temperatures. If either high and/or low temperatures were missing when the Reading object was initialized, the average_temp() method must return a value to show that there is no valid average.\n",
    "\n",
    "Here's some sample behavior:\n",
    "\n",
    "`example = Reading(name=\"New York\", hi_temp=37, lo_temp=32, hum=45)`  \n",
    "`print(example.average_temp())`  \n",
    "\n",
    "Output:\n",
    "\n",
    "34.5"
   ]
  },
  {
   "cell_type": "code",
   "execution_count": 27,
   "metadata": {},
   "outputs": [
    {
     "name": "stdout",
     "output_type": "stream",
     "text": [
      "Boston\n"
     ]
    }
   ],
   "source": [
    "class Reading:\n",
    "    '''\n",
    "    hi_temp float high temperature No\n",
    "    lo_temp float low temperature No\n",
    "    hum float percent humidity No\n",
    "    wind float wind speed No\n",
    "    snow float snowfall amount No\n",
    "    rain float rainfall amount No\n",
    "    '''\n",
    "    def __init__(self, name, hi_temp=None, lo_temp=None,\n",
    "                 hum=None, wind=None, snow=None, rain=None):\n",
    "        self.name = name\n",
    "        self.hi_temp = hi_temp\n",
    "        self.lo_temp = lo_temp\n",
    "        self.hum = hum\n",
    "        self.wind = wind\n",
    "        self.snow = snow\n",
    "        self.rain = rain\n",
    "    \n",
    "    def average_temp(self):\n",
    "        if self.hi_temp is None or self.lo_temp is None:\n",
    "            return None\n",
    "        else:\n",
    "            return (self.hi_temp + self.lo_temp) / 2\n",
    "    \n",
    "    def __str__(self):\n",
    "        return self.name\n",
    "\n",
    "reading = Reading(\"Boston\")\n",
    "print(reading)"
   ]
  },
  {
   "cell_type": "markdown",
   "metadata": {},
   "source": [
    "## 4.2 Getting And Storing Our Data\n",
    "\n",
    "### 4.2.1 File structure\n",
    "\n",
    "Your program will read in city weather data from a file. The file name will be passed into your program from the command line as the first parameter to your program (remember: the name of the program itself is the 0th parameter). You must correctly process your command-line arguments to get the file name.\n",
    "\n",
    "The file passed into the program might not actually exist! Your code has to handle the case it does not exist without crashing. (Hint: the exception name you need is FileNotFoundError.)\n",
    "\n",
    "A sample file for readings:\n",
    "\n",
    "New York, high: 37, low: 32, humidity: 45  \n",
    "Philadelphia, low: 31, high:  36, humidity: 42  \n",
    "Boston, humidity: 56, high: 34, low: 26, wind speed: 56  \n",
    "Buffalo, high: 30, low: 18, snowfall: 9  \n",
    "Miami, high: 70, low: 59, rain: 1  \n",
    "\n",
    "Note: This is just a sample file! The file your code has to process may include more, less, and/or different city weather information. Cities send in their data fields in different orders, and some fields may be missing! You might receive data from other cities not in the sample file. City name is guaranteed to be first. The names for the data fields used in the file will be consistent (i.e. “high”, “low”, “humidity”, “wind speed”, “snowfall”, “rain”).\n",
    "\n",
    "###  4.2.2: The cities Dictionary\n",
    "\n",
    "Read this file into your program. Create a dictionary, called cities, where the values are Reading objects and the keys are strings representing the city name."
   ]
  },
  {
   "cell_type": "code",
   "execution_count": 62,
   "metadata": {},
   "outputs": [],
   "source": [
    "NAME = 0\n",
    "\n",
    "def read_cities(file_path):\n",
    "    print(\"Reading file:\", file_path)\n",
    "    try:\n",
    "        file_obj = open(file_path, \"r\")\n",
    "    except FileNotFoundError:\n",
    "        print(\"{} not found.\".format(file_path))\n",
    "    \n",
    "    cities = {}\n",
    "    for line in file_obj:\n",
    "        line = line.strip()\n",
    "        fields = line.split(',')\n",
    "        fields_dict = {\"high\": None, \"low\": None,\n",
    "                       \"humidity\": None, \"wind speed\": None,\n",
    "                       \"snowfall\": None, \"rain\": None}\n",
    "\n",
    "        for i in range(1, len(fields)):\n",
    "            field = fields[i].strip()\n",
    "            (key, val) = field.split(':')\n",
    "            fields_dict[key] = float(val)\n",
    "        # print(fields[NAME])\n",
    "        # print(fields_dict)\n",
    "        cities[fields[NAME]] = Reading(fields[NAME],\n",
    "                                       hi_temp=fields_dict[\"high\"],\n",
    "                                       lo_temp=fields_dict[\"low\"],\n",
    "                                       hum=fields_dict[\"humidity\"],\n",
    "                                       wind=fields_dict[\"wind speed\"],\n",
    "                                       snow=fields_dict[\"snowfall\"],\n",
    "                                       rain=fields_dict[\"rain\"])\n",
    "    return cities"
   ]
  },
  {
   "cell_type": "markdown",
   "metadata": {},
   "source": [
    "## 4.3: The compare_temps Function\n",
    "\n",
    "Finally, we want to create a standalone function, called compare_temps(cities, city_name1, city_name2), that compares the average (i.e. the mean) temperature in two cities and prints the result. cities is the dictionary that we created earlier, city_name1 is a string containing the name of a city, and city_name2 is a string containing the name of a different city. \n",
    "\n",
    "The output, if we were to create the cities dictionary using the above sample file, for the following function call:\n",
    "\n",
    "`compare_temps(cities, 'Buffalo', 'Boston')`\n",
    "\n",
    "should be:\n",
    "\n",
    "\"The average temperature in Buffalo was 6.0 degrees below that of Boston.\"\n",
    "\n",
    "A couple of things that you must keep in mind when writing this function:\n",
    "\n",
    "You must handle the case where a city name passed to `compare_temps()` is not a key in cities and print a suitable error message.\n",
    "\n",
    "You must also handle the case where temperatures are missing for either city, and output:\n",
    "\n",
    "\"Can't compare averages for Buffalo and Boston: some data is missing.\"\n",
    "\n",
    "For this problem, you can assume that no two cities will have the same average temperature.\n"
   ]
  },
  {
   "cell_type": "code",
   "execution_count": 33,
   "metadata": {},
   "outputs": [],
   "source": [
    "def compare_temps(cities, city_nm1, city_nm2):\n",
    "    if city_nm1 not in cities:\n",
    "        print(\"{} not in cities dict.\".format(city_nm1))\n",
    "        return\n",
    "    if city_nm2 not in cities:\n",
    "        print(\"{} not in cities dict.\".format(city_nm2))\n",
    "        return\n",
    "    temp1 = cities[city_nm1].average_temp()\n",
    "    temp2 = cities[city_nm2].average_temp()\n",
    "    if temp1 is None or temp2 is None:\n",
    "        print(\"Can't compare averages for {} and {}: some data is missing.\".format(city_nm1, city_nm2))\n",
    "    elif temp1 > temp2:\n",
    "        print(\"{}'s temp is {} degrees higher than {}'s temp.\".format(\n",
    "            city_nm1, temp1 - temp2, city_nm2))\n",
    "    else:\n",
    "        print(\"{}'s temp is {} degrees higher than {}'s temp.\".format(\n",
    "            city_nm2, temp2 - temp1, city_nm1))\n"
   ]
  },
  {
   "cell_type": "code",
   "execution_count": 67,
   "metadata": {},
   "outputs": [
    {
     "name": "stdout",
     "output_type": "stream",
     "text": [
      "Reading file: cities.txt\n",
      "Miami's temp is 30.0 degrees higher than New York's temp.\n"
     ]
    }
   ],
   "source": [
    "import sys\n",
    "\n",
    "def main():\n",
    "    while len(sys.argv) < 2:\n",
    "        sys.argv.append(None)\n",
    "    sys.argv[1] = \"cities.txt\"\n",
    "    cities = read_cities(sys.argv[1])\n",
    "    compare_temps(cities, \"Miami\", \"New York\")\n",
    "\n",
    "main()"
   ]
  },
  {
   "cell_type": "code",
   "execution_count": null,
   "metadata": {},
   "outputs": [],
   "source": []
  }
 ],
 "metadata": {
  "kernelspec": {
   "display_name": "Python 3",
   "language": "python",
   "name": "python3"
  },
  "language_info": {
   "codemirror_mode": {
    "name": "ipython",
    "version": 3
   },
   "file_extension": ".py",
   "mimetype": "text/x-python",
   "name": "python",
   "nbconvert_exporter": "python",
   "pygments_lexer": "ipython3",
   "version": "3.9.0"
  }
 },
 "nbformat": 4,
 "nbformat_minor": 4
}
